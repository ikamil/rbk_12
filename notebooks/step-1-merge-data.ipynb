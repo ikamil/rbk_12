{
 "cells": [
  {
   "cell_type": "code",
   "execution_count": 81,
   "id": "considerable-dress",
   "metadata": {},
   "outputs": [],
   "source": [
    "import sys\n",
    "import datetime\n",
    "import numpy as np\n",
    "import pandas as pd\n",
    "import sklearn as sk\n",
    "import seaborn as sns\n",
    "import lightgbm as lgb\n",
    "import matplotlib.pyplot as plt\n",
    "\n",
    "from sklearn.metrics import r2_score\n",
    "from sklearn.model_selection import train_test_split, cross_val_predict, KFold\n",
    "from sklearn.ensemble import RandomForestRegressor, ExtraTreesRegressor\n",
    "\n",
    "sys.path.append('..')\n",
    "\n",
    "from definitions import INPUT_DATA_DIR, PARSED_DATA_DIR, SUB_DIR, FULL_DATA_DIR\n",
    "\n",
    "%reload_ext autoreload\n",
    "%autoreload 2"
   ]
  },
  {
   "cell_type": "code",
   "execution_count": 82,
   "id": "equal-programmer",
   "metadata": {},
   "outputs": [
    {
     "name": "stdout",
     "output_type": "stream",
     "text": [
      "{'lightgbm': '3.3.2', 'pandas': '1.4.3', 'numpy': '1.23.1', 'scikit-learn': '1.1.1'}\n"
     ]
    }
   ],
   "source": [
    "version = {\n",
    "    'lightgbm': lgb.__version__,\n",
    "    'pandas': pd.__version__,\n",
    "    'numpy': np.__version__,\n",
    "    'scikit-learn': sk.__version__ \n",
    "}\n",
    "print(version)"
   ]
  },
  {
   "cell_type": "markdown",
   "id": "balanced-french",
   "metadata": {},
   "source": [
    "# 1. Загрузка данных"
   ]
  },
  {
   "cell_type": "code",
   "execution_count": 83,
   "id": "cutting-shade",
   "metadata": {},
   "outputs": [],
   "source": [
    "from app.transformers.base import Compose\n",
    "from app.transformers.preprocess import (\n",
    "    LoaderMergePreprocess, \n",
    "    CategoryFromTextPreprocess, \n",
    "    AuthorsPreprocess,\n",
    "    TagsPreprocess,\n",
    "    FeaturePreprocess,\n",
    "    SaverPreprocess,\n",
    "    NatashaTransformer\n",
    ")"
   ]
  },
  {
   "cell_type": "code",
   "execution_count": 84,
   "id": "binary-christianity",
   "metadata": {},
   "outputs": [],
   "source": [
    "Preprocessor = Compose(\n",
    "    transforms=[\n",
    "        LoaderMergePreprocess(name='loading'),\n",
    "        CategoryFromTextPreprocess(name='category from text'),\n",
    "        AuthorsPreprocess(name='authors preprocess'),\n",
    "        TagsPreprocess(name='tags preprocess'),\n",
    "        FeaturePreprocess(name='feature selector'),\n",
    "        NatashaTransformer(name='natasha name entity'),\n",
    "        SaverPreprocess(name='saving files')\n",
    "    ]\n",
    ")"
   ]
  },
  {
   "cell_type": "code",
   "execution_count": null,
   "id": "adequate-sandwich",
   "metadata": {},
   "outputs": [],
   "source": [
    "train = Preprocessor(data=pd.DataFrame(), mode='train')\n",
    "test = Preprocessor(data=pd.DataFrame(), mode='test')"
   ]
  },
  {
   "cell_type": "code",
   "execution_count": 85,
   "id": "available-tracker",
   "metadata": {},
   "outputs": [],
   "source": [
    "train = pd.read_json(FULL_DATA_DIR / 'full_train.json')\n",
    "test = pd.read_json(FULL_DATA_DIR / 'full_test.json')"
   ]
  },
  {
   "cell_type": "markdown",
   "id": "conscious-flood",
   "metadata": {},
   "source": [
    "## 2. Предсказание для существующих"
   ]
  },
  {
   "cell_type": "code",
   "execution_count": 86,
   "id": "pregnant-mother",
   "metadata": {},
   "outputs": [],
   "source": [
    "from app.prediction.utils import predict_for_exist\n",
    "from app.constants import FeaturesConstants"
   ]
  },
  {
   "cell_type": "code",
   "execution_count": 87,
   "id": "extensive-semester",
   "metadata": {},
   "outputs": [],
   "source": [
    "exist_prediction = predict_for_exist(train, test)"
   ]
  },
  {
   "cell_type": "code",
   "execution_count": 88,
   "id": "comfortable-wallet",
   "metadata": {},
   "outputs": [],
   "source": [
    "train_and_tests_ctr_ = list(set(train['page_id']) & set(test['page_id']))"
   ]
  },
  {
   "cell_type": "code",
   "execution_count": 89,
   "id": "olive-birth",
   "metadata": {},
   "outputs": [
    {
     "name": "stdout",
     "output_type": "stream",
     "text": [
      "(6921, 30)\n"
     ]
    }
   ],
   "source": [
    "train_data = (\n",
    "    train[~(train['page_id'].isin(train_and_tests_ctr_))]\n",
    "    .drop_duplicates(FeaturesConstants.target + ['document_id', 'page_id', 'ctr'])\n",
    ")\n",
    "print(train_data.shape)\n",
    "train_data = train_data[train_data['full_reads_percent'] <= 100]\n",
    "train_data = train_data[train_data['views'] <= 1000000].copy()\n",
    "\n",
    "y_data = train_data[FeaturesConstants.target].copy()\n",
    "\n",
    "test_data = test[~(test['page_id'].isin(train_and_tests_ctr_))].copy()"
   ]
  },
  {
   "cell_type": "code",
   "execution_count": 90,
   "id": "equivalent-trailer",
   "metadata": {},
   "outputs": [
    {
     "data": {
      "text/plain": [
       "75.729"
      ]
     },
     "execution_count": 90,
     "metadata": {},
     "output_type": "execute_result"
    }
   ],
   "source": [
    "np.quantile(train_data['full_reads_percent'], 1)"
   ]
  },
  {
   "cell_type": "code",
   "execution_count": 91,
   "id": "every-german",
   "metadata": {},
   "outputs": [
    {
     "data": {
      "text/plain": [
       "1733.1000000000001"
      ]
     },
     "execution_count": 91,
     "metadata": {},
     "output_type": "execute_result"
    }
   ],
   "source": [
    "np.quantile(np.sort(train_data['views']), 0.05)"
   ]
  },
  {
   "cell_type": "code",
   "execution_count": 92,
   "id": "nonprofit-spanish",
   "metadata": {},
   "outputs": [
    {
     "data": {
      "text/plain": [
       "((6918, 30), (2967, 27), (33, 4))"
      ]
     },
     "execution_count": 92,
     "metadata": {},
     "output_type": "execute_result"
    }
   ],
   "source": [
    "train_data.shape, test_data.shape, exist_prediction.shape"
   ]
  },
  {
   "cell_type": "markdown",
   "id": "interstate-speaking",
   "metadata": {},
   "source": [
    "## 3. Feature Generation"
   ]
  },
  {
   "cell_type": "markdown",
   "id": "english-syracuse",
   "metadata": {},
   "source": [
    "## 3.1 Identifier\n",
    "\n",
    "- `page_id`: `624ac09c9a7947db3d80c98e`\n",
    "\n",
    "## 3.2 Date\n",
    "\n",
    "- `publish_date`: `2022-04-04 10:29:44` + `timedelta(hours=3)`\n",
    "\n",
    "## 3.3 Title\n",
    "\n",
    "- `title` - title новости от организаторов, (**текст**)\n",
    "- `title_parsed` - спарсенный title новости, (**текст**)\n",
    "- `optional[title_parsed_from_yandex]` - заголовок статьи в `yandex`, (**текст**)\n",
    "- `title_preprocessed` - удалены `category`\n",
    "\n",
    "## 3.4 Category\n",
    "\n",
    "- `category` - категория новости, **hash**\n",
    "- `category_parsed` - спарсенная категория новости, **текст**\n",
    "- `category_from_title` - категория, выделенная из текста, **Optional[текст]**\n",
    "\n",
    "## 3.5 Ctr\n",
    "\n",
    "- `ctr` - показатель кликабельности, **Optional[float64]**\n",
    "\n",
    "## 3.6 Tags\n",
    "\n",
    "- `tags` - таги, закодированные от организаторов, **Optional[hash]**\n",
    "- `tags_parsed` - спарсенные тэги, **Optional[текст]**\n",
    "\n",
    "## 3.7 Auhtors\n",
    "\n",
    "- `authors` - авторы новости от организаторов, **Optional[hash]**\n",
    "- `authors_parsed` - авторы новости **Optional[текст]**\n",
    "\n",
    "## 3.8 Text\n",
    "\n",
    "- `news_text_parsed` - текст новости, полный, **текст** \n",
    "- `news_text_overview_parsed` - некоторая выжимка новости, **текст**\n",
    "- `news_amount_of_paragraphs_parsed` - количество параграфов в тексте, **int64**\n",
    "- `news_amount_of_inline_items_parsed` - количество ссылок на другие новости в тексте новости, **int64**\n",
    "- `news_inline_titles_parsed` - заголовки на другие статьи в тексте новости, **Optional[текст]**\n",
    "- `news_has_image_parsed` - есть ли в новости картинка, **int64**\n",
    "- `news_image_title_parsed` - подпись к изображению, если есть, **Optional[текст]**\n",
    "\n",
    "## 3.9. Features Selector Transformer"
   ]
  },
  {
   "cell_type": "code",
   "execution_count": 93,
   "id": "still-relation",
   "metadata": {},
   "outputs": [],
   "source": [
    "from app.transformers.feature_generation import (\n",
    "    DatetimeTransformer,\n",
    "    TitleTransformer,\n",
    "    CategoryTransformer,\n",
    "    CTRTransformer,\n",
    "    TagsTransformer,\n",
    "    AuthorsTransformer,\n",
    "    TextTransformer,\n",
    "    NatashaTextTransformer,\n",
    "    FeatureSelector,\n",
    "    \n",
    "    AuthorsTFIDFFitTransformer,\n",
    "    TagsTFIDFFitTransformer,\n",
    ")\n"
   ]
  },
  {
   "cell_type": "markdown",
   "id": "blocked-watershed",
   "metadata": {},
   "source": [
    "# 4. Model Fitting"
   ]
  },
  {
   "cell_type": "code",
   "execution_count": 94,
   "id": "entertaining-universe",
   "metadata": {},
   "outputs": [],
   "source": [
    "from sentence_transformers import SentenceTransformer\n",
    "\n",
    "model = SentenceTransformer(FeaturesConstants.MODEL_NAME)"
   ]
  },
  {
   "cell_type": "code",
   "execution_count": null,
   "id": "historical-spine",
   "metadata": {},
   "outputs": [],
   "source": [
    "embeddings = model.encode(train_data['title_preprocessed'].values)"
   ]
  },
  {
   "cell_type": "code",
   "execution_count": 95,
   "id": "narrow-mineral",
   "metadata": {},
   "outputs": [],
   "source": [
    "def plotImp(\n",
    "    model,\n",
    "    X, \n",
    "    num=10, \n",
    "    fig_size = (40, 20)\n",
    "):\n",
    "    feature_imp = pd.DataFrame(\n",
    "        {'Value': model.feature_importances_,\n",
    "         'Feature': X.columns}\n",
    "    )\n",
    "    fig, ax = plt.subplots(1, 1, figsize=fig_size)\n",
    "    sns.barplot(\n",
    "        x=\"Value\", \n",
    "        y=\"Feature\", \n",
    "        data=feature_imp.sort_values(by=\"Value\", ascending=False)[0:num],\n",
    "        ax=ax\n",
    "    )\n",
    "    plt.show()"
   ]
  },
  {
   "cell_type": "code",
   "execution_count": 96,
   "id": "hollow-semester",
   "metadata": {},
   "outputs": [],
   "source": [
    "kfold = KFold(n_splits=3, shuffle=True, random_state=239)"
   ]
  },
  {
   "cell_type": "code",
   "execution_count": 97,
   "id": "common-macro",
   "metadata": {},
   "outputs": [],
   "source": [
    "from sklearn.linear_model import LinearRegression\n",
    "from sklearn.ensemble import ExtraTreesRegressor\n",
    "import lightgbm as lgb\n",
    "import optuna\n",
    "# import optuna.integration.lightgbm as lgb\n",
    "\n",
    "from sklearn.model_selection import RepeatedKFold\n"
   ]
  },
  {
   "cell_type": "code",
   "execution_count": 98,
   "id": "simple-lemon",
   "metadata": {},
   "outputs": [],
   "source": [
    "rkf = RepeatedKFold(n_splits=10, n_repeats=10, random_state=42)"
   ]
  },
  {
   "cell_type": "code",
   "execution_count": 99,
   "id": "fantastic-freedom",
   "metadata": {
    "scrolled": false
   },
   "outputs": [
    {
     "name": "stdout",
     "output_type": "stream",
     "text": [
      "train: transformer\n",
      "train: transformer\n",
      "train: transformer\n",
      "train: transformer\n",
      "train: transformer\n",
      "train: transformer\n",
      "train: transformer\n",
      "train: transformer\n",
      "train: transformer\n",
      "test: transformer\n",
      "test: transformer\n",
      "test: transformer\n",
      "test: transformer\n",
      "test: transformer\n",
      "test: transformer\n",
      "test: transformer\n",
      "test: transformer\n",
      "test: transformer\n"
     ]
    },
    {
     "name": "stderr",
     "output_type": "stream",
     "text": [
      "C:\\Users\\shiro\\Desktop\\DATABASE\\competitions\\summer_2022\\rbk\\.venv\\lib\\site-packages\\lightgbm\\sklearn.py:736: UserWarning: 'verbose' argument is deprecated and will be removed in a future release of LightGBM. Pass 'log_evaluation()' callback via 'callbacks' argument instead.\n",
      "  _log_warning(\"'verbose' argument is deprecated and will be removed in a future release of LightGBM. \"\n",
      "C:\\Users\\shiro\\Desktop\\DATABASE\\competitions\\summer_2022\\rbk\\.venv\\lib\\site-packages\\lightgbm\\basic.py:1780: UserWarning: Overriding the parameters from Reference Dataset.\n",
      "  _log_warning('Overriding the parameters from Reference Dataset.')\n",
      "C:\\Users\\shiro\\Desktop\\DATABASE\\competitions\\summer_2022\\rbk\\.venv\\lib\\site-packages\\lightgbm\\basic.py:1513: UserWarning: categorical_column in param dict is overridden.\n",
      "  _log_warning(f'{cat_alias} in param dict is overridden.')\n"
     ]
    },
    {
     "name": "stdout",
     "output_type": "stream",
     "text": [
      "[]\n"
     ]
    },
    {
     "name": "stderr",
     "output_type": "stream",
     "text": [
      "C:\\Users\\shiro\\Desktop\\DATABASE\\competitions\\summer_2022\\rbk\\.venv\\lib\\site-packages\\lightgbm\\sklearn.py:736: UserWarning: 'verbose' argument is deprecated and will be removed in a future release of LightGBM. Pass 'log_evaluation()' callback via 'callbacks' argument instead.\n",
      "  _log_warning(\"'verbose' argument is deprecated and will be removed in a future release of LightGBM. \"\n",
      "C:\\Users\\shiro\\Desktop\\DATABASE\\competitions\\summer_2022\\rbk\\.venv\\lib\\site-packages\\lightgbm\\basic.py:1780: UserWarning: Overriding the parameters from Reference Dataset.\n",
      "  _log_warning('Overriding the parameters from Reference Dataset.')\n",
      "C:\\Users\\shiro\\Desktop\\DATABASE\\competitions\\summer_2022\\rbk\\.venv\\lib\\site-packages\\lightgbm\\basic.py:1513: UserWarning: categorical_column in param dict is overridden.\n",
      "  _log_warning(f'{cat_alias} in param dict is overridden.')\n"
     ]
    },
    {
     "name": "stdout",
     "output_type": "stream",
     "text": [
      "[]\n"
     ]
    },
    {
     "name": "stderr",
     "output_type": "stream",
     "text": [
      "C:\\Users\\shiro\\Desktop\\DATABASE\\competitions\\summer_2022\\rbk\\.venv\\lib\\site-packages\\lightgbm\\sklearn.py:736: UserWarning: 'verbose' argument is deprecated and will be removed in a future release of LightGBM. Pass 'log_evaluation()' callback via 'callbacks' argument instead.\n",
      "  _log_warning(\"'verbose' argument is deprecated and will be removed in a future release of LightGBM. \"\n",
      "C:\\Users\\shiro\\Desktop\\DATABASE\\competitions\\summer_2022\\rbk\\.venv\\lib\\site-packages\\lightgbm\\basic.py:1780: UserWarning: Overriding the parameters from Reference Dataset.\n",
      "  _log_warning('Overriding the parameters from Reference Dataset.')\n",
      "C:\\Users\\shiro\\Desktop\\DATABASE\\competitions\\summer_2022\\rbk\\.venv\\lib\\site-packages\\lightgbm\\basic.py:1513: UserWarning: categorical_column in param dict is overridden.\n",
      "  _log_warning(f'{cat_alias} in param dict is overridden.')\n"
     ]
    },
    {
     "name": "stdout",
     "output_type": "stream",
     "text": [
      "[]\n",
      "views:  0.6935221437748736\n"
     ]
    },
    {
     "data": {
      "image/png": "[encoded data removed]",
      "text/plain": [
       "<Figure size 1152x720 with 1 Axes>"
      ]
     },
     "metadata": {
      "needs_background": "light"
     },
     "output_type": "display_data"
    },
    {
     "name": "stdout",
     "output_type": "stream",
     "text": [
      "train: transformer\n",
      "train: transformer\n",
      "train: transformer\n",
      "train: transformer\n",
      "train: transformer\n",
      "train: transformer\n",
      "train: transformer\n",
      "train: transformer\n",
      "train: transformer\n",
      "test: transformer\n",
      "test: transformer\n",
      "test: transformer\n",
      "test: transformer\n",
      "test: transformer\n",
      "test: transformer\n",
      "test: transformer\n",
      "test: transformer\n",
      "test: transformer\n"
     ]
    },
    {
     "name": "stderr",
     "output_type": "stream",
     "text": [
      "C:\\Users\\shiro\\Desktop\\DATABASE\\competitions\\summer_2022\\rbk\\.venv\\lib\\site-packages\\lightgbm\\sklearn.py:736: UserWarning: 'verbose' argument is deprecated and will be removed in a future release of LightGBM. Pass 'log_evaluation()' callback via 'callbacks' argument instead.\n",
      "  _log_warning(\"'verbose' argument is deprecated and will be removed in a future release of LightGBM. \"\n",
      "C:\\Users\\shiro\\Desktop\\DATABASE\\competitions\\summer_2022\\rbk\\.venv\\lib\\site-packages\\lightgbm\\basic.py:1780: UserWarning: Overriding the parameters from Reference Dataset.\n",
      "  _log_warning('Overriding the parameters from Reference Dataset.')\n",
      "C:\\Users\\shiro\\Desktop\\DATABASE\\competitions\\summer_2022\\rbk\\.venv\\lib\\site-packages\\lightgbm\\basic.py:1513: UserWarning: categorical_column in param dict is overridden.\n",
      "  _log_warning(f'{cat_alias} in param dict is overridden.')\n"
     ]
    },
    {
     "name": "stdout",
     "output_type": "stream",
     "text": [
      "[]\n"
     ]
    },
    {
     "name": "stderr",
     "output_type": "stream",
     "text": [
      "C:\\Users\\shiro\\Desktop\\DATABASE\\competitions\\summer_2022\\rbk\\.venv\\lib\\site-packages\\lightgbm\\sklearn.py:736: UserWarning: 'verbose' argument is deprecated and will be removed in a future release of LightGBM. Pass 'log_evaluation()' callback via 'callbacks' argument instead.\n",
      "  _log_warning(\"'verbose' argument is deprecated and will be removed in a future release of LightGBM. \"\n",
      "C:\\Users\\shiro\\Desktop\\DATABASE\\competitions\\summer_2022\\rbk\\.venv\\lib\\site-packages\\lightgbm\\basic.py:1780: UserWarning: Overriding the parameters from Reference Dataset.\n",
      "  _log_warning('Overriding the parameters from Reference Dataset.')\n",
      "C:\\Users\\shiro\\Desktop\\DATABASE\\competitions\\summer_2022\\rbk\\.venv\\lib\\site-packages\\lightgbm\\basic.py:1513: UserWarning: categorical_column in param dict is overridden.\n",
      "  _log_warning(f'{cat_alias} in param dict is overridden.')\n"
     ]
    },
    {
     "name": "stdout",
     "output_type": "stream",
     "text": [
      "[]\n"
     ]
    },
    {
     "name": "stderr",
     "output_type": "stream",
     "text": [
      "C:\\Users\\shiro\\Desktop\\DATABASE\\competitions\\summer_2022\\rbk\\.venv\\lib\\site-packages\\lightgbm\\sklearn.py:736: UserWarning: 'verbose' argument is deprecated and will be removed in a future release of LightGBM. Pass 'log_evaluation()' callback via 'callbacks' argument instead.\n",
      "  _log_warning(\"'verbose' argument is deprecated and will be removed in a future release of LightGBM. \"\n",
      "C:\\Users\\shiro\\Desktop\\DATABASE\\competitions\\summer_2022\\rbk\\.venv\\lib\\site-packages\\lightgbm\\basic.py:1780: UserWarning: Overriding the parameters from Reference Dataset.\n",
      "  _log_warning('Overriding the parameters from Reference Dataset.')\n",
      "C:\\Users\\shiro\\Desktop\\DATABASE\\competitions\\summer_2022\\rbk\\.venv\\lib\\site-packages\\lightgbm\\basic.py:1513: UserWarning: categorical_column in param dict is overridden.\n",
      "  _log_warning(f'{cat_alias} in param dict is overridden.')\n"
     ]
    },
    {
     "name": "stdout",
     "output_type": "stream",
     "text": [
      "[]\n",
      "depth:  0.8338933734091092\n"
     ]
    },
    {
     "data": {
      "image/png": "[encoded data removed]",
      "text/plain": [
       "<Figure size 1152x720 with 1 Axes>"
      ]
     },
     "metadata": {
      "needs_background": "light"
     },
     "output_type": "display_data"
    },
    {
     "name": "stdout",
     "output_type": "stream",
     "text": [
      "train: transformer\n",
      "train: transformer\n",
      "train: transformer\n",
      "train: transformer\n",
      "train: transformer\n",
      "train: transformer\n",
      "train: transformer\n",
      "train: transformer\n",
      "train: transformer\n",
      "test: transformer\n",
      "test: transformer\n",
      "test: transformer\n",
      "test: transformer\n",
      "test: transformer\n",
      "test: transformer\n",
      "test: transformer\n",
      "test: transformer\n",
      "test: transformer\n"
     ]
    },
    {
     "name": "stderr",
     "output_type": "stream",
     "text": [
      "C:\\Users\\shiro\\Desktop\\DATABASE\\competitions\\summer_2022\\rbk\\.venv\\lib\\site-packages\\lightgbm\\sklearn.py:736: UserWarning: 'verbose' argument is deprecated and will be removed in a future release of LightGBM. Pass 'log_evaluation()' callback via 'callbacks' argument instead.\n",
      "  _log_warning(\"'verbose' argument is deprecated and will be removed in a future release of LightGBM. \"\n",
      "C:\\Users\\shiro\\Desktop\\DATABASE\\competitions\\summer_2022\\rbk\\.venv\\lib\\site-packages\\lightgbm\\basic.py:1780: UserWarning: Overriding the parameters from Reference Dataset.\n",
      "  _log_warning('Overriding the parameters from Reference Dataset.')\n",
      "C:\\Users\\shiro\\Desktop\\DATABASE\\competitions\\summer_2022\\rbk\\.venv\\lib\\site-packages\\lightgbm\\basic.py:1513: UserWarning: categorical_column in param dict is overridden.\n",
      "  _log_warning(f'{cat_alias} in param dict is overridden.')\n"
     ]
    },
    {
     "name": "stdout",
     "output_type": "stream",
     "text": [
      "[]\n"
     ]
    },
    {
     "name": "stderr",
     "output_type": "stream",
     "text": [
      "C:\\Users\\shiro\\Desktop\\DATABASE\\competitions\\summer_2022\\rbk\\.venv\\lib\\site-packages\\lightgbm\\sklearn.py:736: UserWarning: 'verbose' argument is deprecated and will be removed in a future release of LightGBM. Pass 'log_evaluation()' callback via 'callbacks' argument instead.\n",
      "  _log_warning(\"'verbose' argument is deprecated and will be removed in a future release of LightGBM. \"\n",
      "C:\\Users\\shiro\\Desktop\\DATABASE\\competitions\\summer_2022\\rbk\\.venv\\lib\\site-packages\\lightgbm\\basic.py:1780: UserWarning: Overriding the parameters from Reference Dataset.\n",
      "  _log_warning('Overriding the parameters from Reference Dataset.')\n",
      "C:\\Users\\shiro\\Desktop\\DATABASE\\competitions\\summer_2022\\rbk\\.venv\\lib\\site-packages\\lightgbm\\basic.py:1513: UserWarning: categorical_column in param dict is overridden.\n",
      "  _log_warning(f'{cat_alias} in param dict is overridden.')\n"
     ]
    },
    {
     "name": "stdout",
     "output_type": "stream",
     "text": [
      "[]\n"
     ]
    },
    {
     "name": "stderr",
     "output_type": "stream",
     "text": [
      "C:\\Users\\shiro\\Desktop\\DATABASE\\competitions\\summer_2022\\rbk\\.venv\\lib\\site-packages\\lightgbm\\sklearn.py:736: UserWarning: 'verbose' argument is deprecated and will be removed in a future release of LightGBM. Pass 'log_evaluation()' callback via 'callbacks' argument instead.\n",
      "  _log_warning(\"'verbose' argument is deprecated and will be removed in a future release of LightGBM. \"\n",
      "C:\\Users\\shiro\\Desktop\\DATABASE\\competitions\\summer_2022\\rbk\\.venv\\lib\\site-packages\\lightgbm\\basic.py:1780: UserWarning: Overriding the parameters from Reference Dataset.\n",
      "  _log_warning('Overriding the parameters from Reference Dataset.')\n",
      "C:\\Users\\shiro\\Desktop\\DATABASE\\competitions\\summer_2022\\rbk\\.venv\\lib\\site-packages\\lightgbm\\basic.py:1513: UserWarning: categorical_column in param dict is overridden.\n",
      "  _log_warning(f'{cat_alias} in param dict is overridden.')\n"
     ]
    },
    {
     "name": "stdout",
     "output_type": "stream",
     "text": [
      "[]\n",
      "full_reads_percent:  0.5475992101166663\n"
     ]
    },
    {
     "data": {
      "image/png": "[encoded data removed]",
      "text/plain": [
       "<Figure size 1152x720 with 1 Axes>"
      ]
     },
     "metadata": {
      "needs_background": "light"
     },
     "output_type": "display_data"
    },
    {
     "name": "stdout",
     "output_type": "stream",
     "text": [
      "Final score: 0.6918566325676822, median: 0.6915622955058924\n"
     ]
    }
   ],
   "source": [
    "result_dict = {\n",
    "    'views': {'r2': [], 'prediction': []},\n",
    "    'full_reads_percent': {'r2': [], 'prediction': []},\n",
    "    'depth': {'r2': [], 'prediction': []}\n",
    "}\n",
    "for target_variable in FeaturesConstants.target:\n",
    "#     if target_variable in ['views', 'depth']:\n",
    "#         continue\n",
    "    FeatureGenerator = Compose(\n",
    "        transforms=[\n",
    "            DatetimeTransformer(full='use' if target_variable == 'full_reads_percent' else None),\n",
    "            TitleTransformer(),\n",
    "            CTRTransformer(eps=0.1 if target_variable == 'views' else 0.5),\n",
    "            TagsTransformer(),\n",
    "            AuthorsTransformer(),\n",
    "            TextTransformer(),\n",
    "            NatashaTextTransformer(),\n",
    "            CategoryTransformer(),\n",
    "            FeatureSelector()\n",
    "        ]\n",
    "    )\n",
    "    train_features = FeatureGenerator(data=train_data, mode='train')\n",
    "    test_features = FeatureGenerator(data=test_data, mode='test')\n",
    "    cec = AuthorsTFIDFFitTransformer()\n",
    "    cec.fit(train_data)\n",
    "    \n",
    "    train_features['author_popularity'] = cec.transform(train_data)\n",
    "    test_features['author_popularity'] = cec.transform(test_data)\n",
    "    \n",
    "#     import copy\n",
    "#     train_ebmeddings = copy.deepcopy(embeddings)\n",
    "#     idx = train_ebmeddings.sum(axis=1) != 0\n",
    "#     train_ebmeddings[idx] = train_ebmeddings[idx] / np.linalg.norm(train_ebmeddings[idx], ord=2,axis=1).reshape((-1,1))\n",
    "#     train_features = pd.concat((train_features, pd.DataFrame(train_ebmeddings, index=train_features.index)), axis=1)\n",
    "    \n",
    "#     print(train_features.shape, test_features.shape)\n",
    "\n",
    "\n",
    "    \n",
    "\n",
    "#     train_ddd = cec.transform(train_data)\n",
    "#     test_ddd = cec.transform(test_data)\n",
    "#     print(train_ddd.shape, test_ddd.shape)\n",
    "#     train_features = pd.concat([train_features, train_ddd], axis=1)\n",
    "#     test_features = pd.concat([test_features, test_ddd], axis=1)\n",
    "#     print(train_features.shape, test_features.shape)\n",
    "#     c = TagsTFIDFFitTransformer()\n",
    "#     c.fit(train_data)\n",
    "#     train_features['tag_popularity'] = c.transform(train_data)\n",
    "#     test_features['tag_popularity'] = c.transform(test_data)\n",
    "    for train_index, val_index in kfold.split(train_features):\n",
    "        X_train, X_valid = (\n",
    "            train_features.reset_index(drop=True).iloc[train_index, :], \n",
    "            train_features.reset_index(drop=True).iloc[val_index, :]\n",
    "        )\n",
    "        y_train, y_valid = (\n",
    "            y_data[target_variable].reset_index(drop=True).iloc[train_index], \n",
    "            y_data[target_variable].reset_index(drop=True).iloc[val_index]\n",
    "        )\n",
    "        if target_variable == 'views':\n",
    "            y_train = np.log(y_train)\n",
    "            y_valid = np.log(y_valid)\n",
    "        elif target_variable == 'depth':\n",
    "            y_train = np.log(np.log(y_train))\n",
    "            y_valid = np.log(np.log(y_valid))\n",
    "        else:\n",
    "            y_train = np.log(y_train)\n",
    "            y_valid = np.log(y_valid)\n",
    "            \n",
    "        if target_variable == 'me':\n",
    "            pass\n",
    "        else:\n",
    "            dtrain = lgb.Dataset(X_train, label=y_train)\n",
    "            dvalid = lgb.Dataset(X_valid, label=y_valid)            \n",
    "            \n",
    "            lgbm_regressor = lgb.LGBMRegressor(\n",
    "                objective='rmse',\n",
    "                random_state=33,\n",
    "                early_stopping_round=3000, \n",
    "                n_estimators=500,\n",
    "                colsample_bytree=0.95,\n",
    "                learning_rate=0.09,\n",
    "                max_depth=-1,\n",
    "                verbose=-1\n",
    "            )\n",
    "            lgbm_regressor.fit(X_train, \n",
    "                     y_train, \n",
    "                     eval_set=[(X_valid, y_valid)], \n",
    "                     eval_metric='rmse', verbose=-1)\n",
    "        y_pred = lgbm_regressor.predict(X_valid)\n",
    "        r2 = r2_score(y_valid, y_pred)\n",
    "        result_dict[target_variable]['r2'].append(r2)\n",
    "        \n",
    "        pro = lgbm_regressor.predict(test_features)\n",
    "        if target_variable == 'views':\n",
    "            pro = np.exp(pro)\n",
    "        elif target_variable == 'depth':\n",
    "            pro = np.exp(np.exp(pro))\n",
    "        else:\n",
    "            pro = np.exp(pro)\n",
    "        print(pro[pro < 0])\n",
    "        result_dict[target_variable]['prediction'].append(pro)\n",
    "    print(f'{target_variable}: ', np.mean(result_dict[target_variable]['r2']))\n",
    "    plotImp(lgbm_regressor, train_features, num=20, fig_size=(16, 10))\n",
    "\n",
    "full_score = (\n",
    "    np.mean(result_dict['views']['r2']) * 0.4 + \n",
    "    np.mean(result_dict['full_reads_percent']['r2']) * 0.3 + \n",
    "    np.mean(result_dict['depth']['r2']) * 0.3\n",
    ")\n",
    "full_score_2 = (\n",
    "    np.median(result_dict['views']['r2']) * 0.4 + \n",
    "    np.median(result_dict['full_reads_percent']['r2']) * 0.3 + \n",
    "    np.median(result_dict['depth']['r2']) * 0.3\n",
    ")\n",
    "print(f'Final score: {full_score}, median: {full_score_2}')"
   ]
  },
  {
   "cell_type": "markdown",
   "id": "honest-iraqi",
   "metadata": {},
   "source": [
    "# Sub4 - best"
   ]
  },
  {
   "cell_type": "code",
   "execution_count": 100,
   "id": "false-castle",
   "metadata": {},
   "outputs": [],
   "source": [
    "sub = pd.DataFrame(\n",
    "    {\n",
    "        'document_id': test_data['document_id'].values,\n",
    "        'views': pd.DataFrame(result_dict['views']['prediction']).T.mean(axis=1),\n",
    "        'depth': pd.DataFrame(result_dict['depth']['prediction']).T.mean(axis=1),\n",
    "        'full_reads_percent': pd.DataFrame(result_dict['full_reads_percent']['prediction']).T.mean(axis=1),\n",
    "    },\n",
    ")\n",
    "sub.index = test_data.index"
   ]
  },
  {
   "cell_type": "code",
   "execution_count": 101,
   "id": "marine-toner",
   "metadata": {},
   "outputs": [],
   "source": [
    "sub_full = pd.concat((sub, exist_prediction)).sort_index()"
   ]
  },
  {
   "cell_type": "code",
   "execution_count": 102,
   "id": "written-customer",
   "metadata": {},
   "outputs": [],
   "source": [
    "ss = pd.read_csv('../sub/sample_solution.csv')"
   ]
  },
  {
   "cell_type": "code",
   "execution_count": 103,
   "id": "treated-resource",
   "metadata": {},
   "outputs": [],
   "source": [
    "sub_full_2 = pd.DataFrame(ss['document_id'])"
   ]
  },
  {
   "cell_type": "code",
   "execution_count": 76,
   "id": "subjective-serial",
   "metadata": {},
   "outputs": [],
   "source": [
    "views = []\n",
    "full_reads_percent = []\n",
    "depth = []\n",
    "for j, i in sub_full_2.iterrows():\n",
    "    dummy = sub_full[sub_full['document_id'] == i['document_id']]\n",
    "    views.append(dummy['views'].values[0])\n",
    "    full_reads_percent.append(dummy['full_reads_percent'].values[0])\n",
    "    depth.append(dummy['depth'].values[0])"
   ]
  },
  {
   "cell_type": "code",
   "execution_count": 77,
   "id": "impressive-translator",
   "metadata": {},
   "outputs": [],
   "source": [
    "sub_full_2['views'] = views\n",
    "sub_full_2['full_reads_percent'] = full_reads_percent\n",
    "sub_full_2['depth'] = depth"
   ]
  },
  {
   "cell_type": "code",
   "execution_count": 78,
   "id": "lesser-importance",
   "metadata": {},
   "outputs": [],
   "source": [
    "sub_full_2.to_csv(SUB_DIR / 'sub6_new_features.csv', index=False)"
   ]
  },
  {
   "cell_type": "code",
   "execution_count": 79,
   "id": "julian-picnic",
   "metadata": {},
   "outputs": [
    {
     "data": {
      "text/html": [
       "<div>\n",
       "<style scoped>\n",
       "    .dataframe tbody tr th:only-of-type {\n",
       "        vertical-align: middle;\n",
       "    }\n",
       "\n",
       "    .dataframe tbody tr th {\n",
       "        vertical-align: top;\n",
       "    }\n",
       "\n",
       "    .dataframe thead th {\n",
       "        text-align: right;\n",
       "    }\n",
       "</style>\n",
       "<table border=\"1\" class=\"dataframe\">\n",
       "  <thead>\n",
       "    <tr style=\"text-align: right;\">\n",
       "      <th></th>\n",
       "      <th>document_id</th>\n",
       "      <th>views</th>\n",
       "      <th>full_reads_percent</th>\n",
       "      <th>depth</th>\n",
       "    </tr>\n",
       "  </thead>\n",
       "  <tbody>\n",
       "    <tr>\n",
       "      <th>0</th>\n",
       "      <td>61f9569a9a794794245a82abJ0AvX96vTAaQCiWVbzoMdw</td>\n",
       "      <td>9457.623507</td>\n",
       "      <td>50.485956</td>\n",
       "      <td>1.217946</td>\n",
       "    </tr>\n",
       "    <tr>\n",
       "      <th>1</th>\n",
       "      <td>628c22b89a79470e553f594bQS5CqzXYRnmDdR2LaSreEw</td>\n",
       "      <td>5601.495815</td>\n",
       "      <td>32.523831</td>\n",
       "      <td>1.054987</td>\n",
       "    </tr>\n",
       "    <tr>\n",
       "      <th>2</th>\n",
       "      <td>627cb3249a7947ebdd752865XVsoyrUOT8OJJg2_finJhw</td>\n",
       "      <td>10928.994654</td>\n",
       "      <td>25.891150</td>\n",
       "      <td>1.062408</td>\n",
       "    </tr>\n",
       "    <tr>\n",
       "      <th>3</th>\n",
       "      <td>628618629a7947d4927eb812upfii3whSSuMXCqcqF8VbQ</td>\n",
       "      <td>3667.071917</td>\n",
       "      <td>36.726318</td>\n",
       "      <td>1.062928</td>\n",
       "    </tr>\n",
       "    <tr>\n",
       "      <th>4</th>\n",
       "      <td>620e76109a7947235623695b5hzCiIHdSYKQIr8WAM18bw</td>\n",
       "      <td>84951.030914</td>\n",
       "      <td>29.042000</td>\n",
       "      <td>1.117110</td>\n",
       "    </tr>\n",
       "    <tr>\n",
       "      <th>...</th>\n",
       "      <td>...</td>\n",
       "      <td>...</td>\n",
       "      <td>...</td>\n",
       "      <td>...</td>\n",
       "    </tr>\n",
       "    <tr>\n",
       "      <th>2995</th>\n",
       "      <td>623ba6bc9a79470214cb9418x4OZQ1IjTb27nPAgv5wAZg</td>\n",
       "      <td>25413.104453</td>\n",
       "      <td>33.897039</td>\n",
       "      <td>1.129245</td>\n",
       "    </tr>\n",
       "    <tr>\n",
       "      <th>2996</th>\n",
       "      <td>624fda1f9a79471a9bd102eetuRTrLPGSZyNbc9_YcBAeQ</td>\n",
       "      <td>38047.319707</td>\n",
       "      <td>33.003981</td>\n",
       "      <td>1.120423</td>\n",
       "    </tr>\n",
       "    <tr>\n",
       "      <th>2997</th>\n",
       "      <td>6257a6a99a79477eea75b86dtBr3UG9ORW-gOybkVKX6ww</td>\n",
       "      <td>7828.815530</td>\n",
       "      <td>41.844524</td>\n",
       "      <td>1.065188</td>\n",
       "    </tr>\n",
       "    <tr>\n",
       "      <th>2998</th>\n",
       "      <td>624866d59a7947421716ab46WsGDKyGjTJGRh14eR7UVvw</td>\n",
       "      <td>13244.841888</td>\n",
       "      <td>39.097132</td>\n",
       "      <td>1.172370</td>\n",
       "    </tr>\n",
       "    <tr>\n",
       "      <th>2999</th>\n",
       "      <td>6236f9129a79477b0ef18ae0ewByZQ1FQBK2dpXyY77rYw</td>\n",
       "      <td>4667.813575</td>\n",
       "      <td>39.495277</td>\n",
       "      <td>1.150230</td>\n",
       "    </tr>\n",
       "  </tbody>\n",
       "</table>\n",
       "<p>3000 rows × 4 columns</p>\n",
       "</div>"
      ],
      "text/plain": [
       "                                         document_id         views  \\\n",
       "0     61f9569a9a794794245a82abJ0AvX96vTAaQCiWVbzoMdw   9457.623507   \n",
       "1     628c22b89a79470e553f594bQS5CqzXYRnmDdR2LaSreEw   5601.495815   \n",
       "2     627cb3249a7947ebdd752865XVsoyrUOT8OJJg2_finJhw  10928.994654   \n",
       "3     628618629a7947d4927eb812upfii3whSSuMXCqcqF8VbQ   3667.071917   \n",
       "4     620e76109a7947235623695b5hzCiIHdSYKQIr8WAM18bw  84951.030914   \n",
       "...                                              ...           ...   \n",
       "2995  623ba6bc9a79470214cb9418x4OZQ1IjTb27nPAgv5wAZg  25413.104453   \n",
       "2996  624fda1f9a79471a9bd102eetuRTrLPGSZyNbc9_YcBAeQ  38047.319707   \n",
       "2997  6257a6a99a79477eea75b86dtBr3UG9ORW-gOybkVKX6ww   7828.815530   \n",
       "2998  624866d59a7947421716ab46WsGDKyGjTJGRh14eR7UVvw  13244.841888   \n",
       "2999  6236f9129a79477b0ef18ae0ewByZQ1FQBK2dpXyY77rYw   4667.813575   \n",
       "\n",
       "      full_reads_percent     depth  \n",
       "0              50.485956  1.217946  \n",
       "1              32.523831  1.054987  \n",
       "2              25.891150  1.062408  \n",
       "3              36.726318  1.062928  \n",
       "4              29.042000  1.117110  \n",
       "...                  ...       ...  \n",
       "2995           33.897039  1.129245  \n",
       "2996           33.003981  1.120423  \n",
       "2997           41.844524  1.065188  \n",
       "2998           39.097132  1.172370  \n",
       "2999           39.495277  1.150230  \n",
       "\n",
       "[3000 rows x 4 columns]"
      ]
     },
     "execution_count": 79,
     "metadata": {},
     "output_type": "execute_result"
    }
   ],
   "source": [
    "pd.read_csv(SUB_DIR / 'sub4_new_features.csv')"
   ]
  },
  {
   "cell_type": "code",
   "execution_count": 80,
   "id": "pointed-offer",
   "metadata": {},
   "outputs": [
    {
     "data": {
      "text/html": [
       "<div>\n",
       "<style scoped>\n",
       "    .dataframe tbody tr th:only-of-type {\n",
       "        vertical-align: middle;\n",
       "    }\n",
       "\n",
       "    .dataframe tbody tr th {\n",
       "        vertical-align: top;\n",
       "    }\n",
       "\n",
       "    .dataframe thead th {\n",
       "        text-align: right;\n",
       "    }\n",
       "</style>\n",
       "<table border=\"1\" class=\"dataframe\">\n",
       "  <thead>\n",
       "    <tr style=\"text-align: right;\">\n",
       "      <th></th>\n",
       "      <th>document_id</th>\n",
       "      <th>views</th>\n",
       "      <th>full_reads_percent</th>\n",
       "      <th>depth</th>\n",
       "    </tr>\n",
       "  </thead>\n",
       "  <tbody>\n",
       "    <tr>\n",
       "      <th>0</th>\n",
       "      <td>61f9569a9a794794245a82abJ0AvX96vTAaQCiWVbzoMdw</td>\n",
       "      <td>8795.748221</td>\n",
       "      <td>50.067137</td>\n",
       "      <td>1.206407</td>\n",
       "    </tr>\n",
       "    <tr>\n",
       "      <th>1</th>\n",
       "      <td>628c22b89a79470e553f594bQS5CqzXYRnmDdR2LaSreEw</td>\n",
       "      <td>5917.179816</td>\n",
       "      <td>31.890189</td>\n",
       "      <td>1.055747</td>\n",
       "    </tr>\n",
       "    <tr>\n",
       "      <th>2</th>\n",
       "      <td>627cb3249a7947ebdd752865XVsoyrUOT8OJJg2_finJhw</td>\n",
       "      <td>11243.779252</td>\n",
       "      <td>25.815705</td>\n",
       "      <td>1.064187</td>\n",
       "    </tr>\n",
       "    <tr>\n",
       "      <th>3</th>\n",
       "      <td>628618629a7947d4927eb812upfii3whSSuMXCqcqF8VbQ</td>\n",
       "      <td>4013.458581</td>\n",
       "      <td>36.992697</td>\n",
       "      <td>1.062790</td>\n",
       "    </tr>\n",
       "    <tr>\n",
       "      <th>4</th>\n",
       "      <td>620e76109a7947235623695b5hzCiIHdSYKQIr8WAM18bw</td>\n",
       "      <td>102811.483830</td>\n",
       "      <td>27.300156</td>\n",
       "      <td>1.119380</td>\n",
       "    </tr>\n",
       "    <tr>\n",
       "      <th>...</th>\n",
       "      <td>...</td>\n",
       "      <td>...</td>\n",
       "      <td>...</td>\n",
       "      <td>...</td>\n",
       "    </tr>\n",
       "    <tr>\n",
       "      <th>2995</th>\n",
       "      <td>623ba6bc9a79470214cb9418x4OZQ1IjTb27nPAgv5wAZg</td>\n",
       "      <td>26918.677583</td>\n",
       "      <td>33.074175</td>\n",
       "      <td>1.130582</td>\n",
       "    </tr>\n",
       "    <tr>\n",
       "      <th>2996</th>\n",
       "      <td>624fda1f9a79471a9bd102eetuRTrLPGSZyNbc9_YcBAeQ</td>\n",
       "      <td>38413.603776</td>\n",
       "      <td>34.382631</td>\n",
       "      <td>1.123329</td>\n",
       "    </tr>\n",
       "    <tr>\n",
       "      <th>2997</th>\n",
       "      <td>6257a6a99a79477eea75b86dtBr3UG9ORW-gOybkVKX6ww</td>\n",
       "      <td>7728.913091</td>\n",
       "      <td>43.058665</td>\n",
       "      <td>1.065986</td>\n",
       "    </tr>\n",
       "    <tr>\n",
       "      <th>2998</th>\n",
       "      <td>624866d59a7947421716ab46WsGDKyGjTJGRh14eR7UVvw</td>\n",
       "      <td>12681.907559</td>\n",
       "      <td>40.111515</td>\n",
       "      <td>1.169854</td>\n",
       "    </tr>\n",
       "    <tr>\n",
       "      <th>2999</th>\n",
       "      <td>6236f9129a79477b0ef18ae0ewByZQ1FQBK2dpXyY77rYw</td>\n",
       "      <td>5601.054928</td>\n",
       "      <td>39.738983</td>\n",
       "      <td>1.146755</td>\n",
       "    </tr>\n",
       "  </tbody>\n",
       "</table>\n",
       "<p>3000 rows × 4 columns</p>\n",
       "</div>"
      ],
      "text/plain": [
       "                                         document_id          views  \\\n",
       "0     61f9569a9a794794245a82abJ0AvX96vTAaQCiWVbzoMdw    8795.748221   \n",
       "1     628c22b89a79470e553f594bQS5CqzXYRnmDdR2LaSreEw    5917.179816   \n",
       "2     627cb3249a7947ebdd752865XVsoyrUOT8OJJg2_finJhw   11243.779252   \n",
       "3     628618629a7947d4927eb812upfii3whSSuMXCqcqF8VbQ    4013.458581   \n",
       "4     620e76109a7947235623695b5hzCiIHdSYKQIr8WAM18bw  102811.483830   \n",
       "...                                              ...            ...   \n",
       "2995  623ba6bc9a79470214cb9418x4OZQ1IjTb27nPAgv5wAZg   26918.677583   \n",
       "2996  624fda1f9a79471a9bd102eetuRTrLPGSZyNbc9_YcBAeQ   38413.603776   \n",
       "2997  6257a6a99a79477eea75b86dtBr3UG9ORW-gOybkVKX6ww    7728.913091   \n",
       "2998  624866d59a7947421716ab46WsGDKyGjTJGRh14eR7UVvw   12681.907559   \n",
       "2999  6236f9129a79477b0ef18ae0ewByZQ1FQBK2dpXyY77rYw    5601.054928   \n",
       "\n",
       "      full_reads_percent     depth  \n",
       "0              50.067137  1.206407  \n",
       "1              31.890189  1.055747  \n",
       "2              25.815705  1.064187  \n",
       "3              36.992697  1.062790  \n",
       "4              27.300156  1.119380  \n",
       "...                  ...       ...  \n",
       "2995           33.074175  1.130582  \n",
       "2996           34.382631  1.123329  \n",
       "2997           43.058665  1.065986  \n",
       "2998           40.111515  1.169854  \n",
       "2999           39.738983  1.146755  \n",
       "\n",
       "[3000 rows x 4 columns]"
      ]
     },
     "execution_count": 80,
     "metadata": {},
     "output_type": "execute_result"
    }
   ],
   "source": [
    "sub_full_2"
   ]
  },
  {
   "cell_type": "code",
   "execution_count": null,
   "id": "competent-december",
   "metadata": {},
   "outputs": [],
   "source": []
  }
 ],
 "metadata": {
  "kernelspec": {
   "display_name": "rbk",
   "language": "python",
   "name": "rbk"
  },
  "language_info": {
   "codemirror_mode": {
    "name": "ipython",
    "version": 3
   },
   "file_extension": ".py",
   "mimetype": "text/x-python",
   "name": "python",
   "nbconvert_exporter": "python",
   "pygments_lexer": "ipython3",
   "version": "3.9.0"
  }
 },
 "nbformat": 4,
 "nbformat_minor": 5
}
